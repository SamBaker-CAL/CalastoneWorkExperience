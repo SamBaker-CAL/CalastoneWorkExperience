{
 "cells": [
  {
   "cell_type": "markdown",
   "id": "d289d991",
   "metadata": {},
   "source": [
    "#### Magic initialisation stuff\n",
    "\n",
    "* Initialises a database connection semi-securely\n",
    "* References a plotting library"
   ]
  },
  {
   "cell_type": "code",
   "execution_count": 35,
   "metadata": {
    "language_info": {
     "name": "polyglot-notebook"
    },
    "polyglot_notebook": {
     "kernelName": "csharp"
    }
   },
   "outputs": [
    {
     "data": {
      "text/html": [
       "<div><div></div><div></div><div><strong>Installed Packages</strong><ul><li><span>Microsoft.DotNet.Interactive.SqlServer, 1.0.0-beta.25323.1</span></li></ul></div></div>"
      ]
     },
     "metadata": {},
     "output_type": "display_data"
    }
   ],
   "source": [
    "#r \"nuget: Microsoft.DotNet.Interactive.SqlServer, *-*\""
   ]
  },
  {
   "cell_type": "code",
   "execution_count": 36,
   "metadata": {
    "language_info": {
     "name": "polyglot-notebook"
    },
    "polyglot_notebook": {
     "kernelName": "csharp"
    }
   },
   "outputs": [
    {
     "ename": "Error",
     "evalue": "ScottPlot version 5.0.* cannot be added because version 5.0.55 was added previously.",
     "output_type": "error",
     "traceback": [
      "ScottPlot version 5.0.* cannot be added because version 5.0.55 was added previously."
     ]
    }
   ],
   "source": [
    "using System.IO;\n",
    "var connectionString = await File.ReadAllTextAsync(\"C:\\\\\\\\Temp\\\\BestFunds.txt\");\n",
    "#r \"nuget:ScottPlot, 5.0.*\""
   ]
  },
  {
   "cell_type": "code",
   "execution_count": 37,
   "id": "bf2ee421",
   "metadata": {
    "language_info": {
     "name": "polyglot-notebook"
    },
    "polyglot_notebook": {
     "kernelName": "csharp"
    }
   },
   "outputs": [
    {
     "ename": "Error",
     "evalue": "System.InvalidOperationException: A kernel with name BestFunds is already present. Use a different value for the --kernel-name parameter.\r\n   at Microsoft.DotNet.Interactive.SqlServer.ConnectMsSqlDirective.ConnectKernelsAsync(ConnectMsSqlKernel connectCommand, KernelInvocationContext context)\r\n   at Microsoft.DotNet.Interactive.CompositeKernel.ConnectKernels[TCommand](TCommand command, ConnectKernelDirective`1 connectDirective, KernelInvocationContext context) in D:\\a\\_work\\1\\s\\src\\Microsoft.DotNet.Interactive\\CompositeKernel.cs:line 275\r\n   at Microsoft.DotNet.Interactive.CompositeKernel.<>c__DisplayClass21_0`1.<<AddConnectDirective>b__0>d.MoveNext() in D:\\a\\_work\\1\\s\\src\\Microsoft.DotNet.Interactive\\CompositeKernel.cs:line 260\r\n--- End of stack trace from previous location ---\r\n   at Microsoft.DotNet.Interactive.Kernel.HandleAsync(KernelCommand command, KernelInvocationContext context) in D:\\a\\_work\\1\\s\\src\\Microsoft.DotNet.Interactive\\Kernel.cs:line 371\r\n   at Microsoft.DotNet.Interactive.CompositeKernel.HandleAsync(KernelCommand command, KernelInvocationContext context) in D:\\a\\_work\\1\\s\\src\\Microsoft.DotNet.Interactive\\CompositeKernel.cs:line 216\r\n   at Microsoft.DotNet.Interactive.KernelCommandPipeline.<BuildPipeline>b__6_0(KernelCommand command, KernelInvocationContext context, KernelPipelineContinuation _) in D:\\a\\_work\\1\\s\\src\\Microsoft.DotNet.Interactive\\KernelCommandPipeline.cs:line 60\r\n   at Microsoft.DotNet.Interactive.KernelCommandPipeline.<>c__DisplayClass6_1.<<BuildPipeline>b__3>d.MoveNext() in D:\\a\\_work\\1\\s\\src\\Microsoft.DotNet.Interactive\\KernelCommandPipeline.cs:line 75\r\n--- End of stack trace from previous location ---\r\n   at Microsoft.DotNet.Interactive.App.KernelExtensions.<>c__DisplayClass6_0.<<UseTelemetrySender>b__0>d.MoveNext() in D:\\a\\_work\\1\\s\\src\\dotnet-interactive\\KernelExtensions.cs:line 457\r\n--- End of stack trace from previous location ---\r\n   at Microsoft.DotNet.Interactive.KernelCommandPipeline.<>c__DisplayClass6_1.<<BuildPipeline>b__3>d.MoveNext() in D:\\a\\_work\\1\\s\\src\\Microsoft.DotNet.Interactive\\KernelCommandPipeline.cs:line 75\r\n--- End of stack trace from previous location ---\r\n   at Microsoft.DotNet.Interactive.App.KernelExtensionLoader.<>c__DisplayClass0_0.<<UseNuGetExtensions>b__0>d.MoveNext() in D:\\a\\_work\\1\\s\\src\\dotnet-interactive\\KernelExtensionLoader.cs:line 25\r\n--- End of stack trace from previous location ---\r\n   at Microsoft.DotNet.Interactive.KernelCommandPipeline.<>c__DisplayClass6_1.<<BuildPipeline>b__3>d.MoveNext() in D:\\a\\_work\\1\\s\\src\\Microsoft.DotNet.Interactive\\KernelCommandPipeline.cs:line 75\r\n--- End of stack trace from previous location ---\r\n   at Microsoft.DotNet.Interactive.App.KernelExtensions.<>c__DisplayClass5_0.<<UseSecretManager>b__0>d.MoveNext() in D:\\a\\_work\\1\\s\\src\\dotnet-interactive\\KernelExtensions.cs:line 388\r\n--- End of stack trace from previous location ---\r\n   at Microsoft.DotNet.Interactive.KernelCommandPipeline.<>c__DisplayClass6_0.<<BuildPipeline>g__Combine|2>d.MoveNext() in D:\\a\\_work\\1\\s\\src\\Microsoft.DotNet.Interactive\\KernelCommandPipeline.cs:line 73\r\n--- End of stack trace from previous location ---\r\n   at Microsoft.DotNet.Interactive.KernelCommandPipeline.<>c__DisplayClass6_0.<<BuildPipeline>g__Combine|2>d.MoveNext() in D:\\a\\_work\\1\\s\\src\\Microsoft.DotNet.Interactive\\KernelCommandPipeline.cs:line 73\r\n--- End of stack trace from previous location ---\r\n   at Microsoft.DotNet.Interactive.KernelCommandPipeline.<>c__DisplayClass6_0.<<BuildPipeline>g__Combine|2>d.MoveNext() in D:\\a\\_work\\1\\s\\src\\Microsoft.DotNet.Interactive\\KernelCommandPipeline.cs:line 73\r\n--- End of stack trace from previous location ---\r\n   at Microsoft.DotNet.Interactive.KernelCommandPipeline.SendAsync(KernelCommand command, KernelInvocationContext context) in D:\\a\\_work\\1\\s\\src\\Microsoft.DotNet.Interactive\\KernelCommandPipeline.cs:line 41",
     "output_type": "error",
     "traceback": [
      "System.InvalidOperationException: A kernel with name BestFunds is already present. Use a different value for the --kernel-name parameter.\r\n",
      "   at Microsoft.DotNet.Interactive.SqlServer.ConnectMsSqlDirective.ConnectKernelsAsync(ConnectMsSqlKernel connectCommand, KernelInvocationContext context)\r\n",
      "   at Microsoft.DotNet.Interactive.CompositeKernel.ConnectKernels[TCommand](TCommand command, ConnectKernelDirective`1 connectDirective, KernelInvocationContext context) in D:\\a\\_work\\1\\s\\src\\Microsoft.DotNet.Interactive\\CompositeKernel.cs:line 275\r\n",
      "   at Microsoft.DotNet.Interactive.CompositeKernel.<>c__DisplayClass21_0`1.<<AddConnectDirective>b__0>d.MoveNext() in D:\\a\\_work\\1\\s\\src\\Microsoft.DotNet.Interactive\\CompositeKernel.cs:line 260\r\n",
      "--- End of stack trace from previous location ---\r\n",
      "   at Microsoft.DotNet.Interactive.Kernel.HandleAsync(KernelCommand command, KernelInvocationContext context) in D:\\a\\_work\\1\\s\\src\\Microsoft.DotNet.Interactive\\Kernel.cs:line 371\r\n",
      "   at Microsoft.DotNet.Interactive.CompositeKernel.HandleAsync(KernelCommand command, KernelInvocationContext context) in D:\\a\\_work\\1\\s\\src\\Microsoft.DotNet.Interactive\\CompositeKernel.cs:line 216\r\n",
      "   at Microsoft.DotNet.Interactive.KernelCommandPipeline.<BuildPipeline>b__6_0(KernelCommand command, KernelInvocationContext context, KernelPipelineContinuation _) in D:\\a\\_work\\1\\s\\src\\Microsoft.DotNet.Interactive\\KernelCommandPipeline.cs:line 60\r\n",
      "   at Microsoft.DotNet.Interactive.KernelCommandPipeline.<>c__DisplayClass6_1.<<BuildPipeline>b__3>d.MoveNext() in D:\\a\\_work\\1\\s\\src\\Microsoft.DotNet.Interactive\\KernelCommandPipeline.cs:line 75\r\n",
      "--- End of stack trace from previous location ---\r\n",
      "   at Microsoft.DotNet.Interactive.App.KernelExtensions.<>c__DisplayClass6_0.<<UseTelemetrySender>b__0>d.MoveNext() in D:\\a\\_work\\1\\s\\src\\dotnet-interactive\\KernelExtensions.cs:line 457\r\n",
      "--- End of stack trace from previous location ---\r\n",
      "   at Microsoft.DotNet.Interactive.KernelCommandPipeline.<>c__DisplayClass6_1.<<BuildPipeline>b__3>d.MoveNext() in D:\\a\\_work\\1\\s\\src\\Microsoft.DotNet.Interactive\\KernelCommandPipeline.cs:line 75\r\n",
      "--- End of stack trace from previous location ---\r\n",
      "   at Microsoft.DotNet.Interactive.App.KernelExtensionLoader.<>c__DisplayClass0_0.<<UseNuGetExtensions>b__0>d.MoveNext() in D:\\a\\_work\\1\\s\\src\\dotnet-interactive\\KernelExtensionLoader.cs:line 25\r\n",
      "--- End of stack trace from previous location ---\r\n",
      "   at Microsoft.DotNet.Interactive.KernelCommandPipeline.<>c__DisplayClass6_1.<<BuildPipeline>b__3>d.MoveNext() in D:\\a\\_work\\1\\s\\src\\Microsoft.DotNet.Interactive\\KernelCommandPipeline.cs:line 75\r\n",
      "--- End of stack trace from previous location ---\r\n",
      "   at Microsoft.DotNet.Interactive.App.KernelExtensions.<>c__DisplayClass5_0.<<UseSecretManager>b__0>d.MoveNext() in D:\\a\\_work\\1\\s\\src\\dotnet-interactive\\KernelExtensions.cs:line 388\r\n",
      "--- End of stack trace from previous location ---\r\n",
      "   at Microsoft.DotNet.Interactive.KernelCommandPipeline.<>c__DisplayClass6_0.<<BuildPipeline>g__Combine|2>d.MoveNext() in D:\\a\\_work\\1\\s\\src\\Microsoft.DotNet.Interactive\\KernelCommandPipeline.cs:line 73\r\n",
      "--- End of stack trace from previous location ---\r\n",
      "   at Microsoft.DotNet.Interactive.KernelCommandPipeline.<>c__DisplayClass6_0.<<BuildPipeline>g__Combine|2>d.MoveNext() in D:\\a\\_work\\1\\s\\src\\Microsoft.DotNet.Interactive\\KernelCommandPipeline.cs:line 73\r\n",
      "--- End of stack trace from previous location ---\r\n",
      "   at Microsoft.DotNet.Interactive.KernelCommandPipeline.<>c__DisplayClass6_0.<<BuildPipeline>g__Combine|2>d.MoveNext() in D:\\a\\_work\\1\\s\\src\\Microsoft.DotNet.Interactive\\KernelCommandPipeline.cs:line 73\r\n",
      "--- End of stack trace from previous location ---\r\n",
      "   at Microsoft.DotNet.Interactive.KernelCommandPipeline.SendAsync(KernelCommand command, KernelInvocationContext context) in D:\\a\\_work\\1\\s\\src\\Microsoft.DotNet.Interactive\\KernelCommandPipeline.cs:line 41"
     ]
    }
   ],
   "source": [
    "\n",
    "#!connect mssql --kernel-name BestFunds @csharp:connectionString\n"
   ]
  },
  {
   "cell_type": "markdown",
   "id": "a67ef000",
   "metadata": {},
   "source": [
    "#### Querying our database\n",
    "\n",
    "This query sums the value of every transaction made by a person with the given name."
   ]
  },
  {
   "cell_type": "code",
   "execution_count": 38,
   "id": "fe46376a",
   "metadata": {
    "language_info": {
     "name": "polyglot-notebook"
    },
    "polyglot_notebook": {
     "kernelName": "sql-BestFunds"
    }
   },
   "outputs": [
    {
     "ename": "Error",
     "evalue": "Command cancelled.",
     "output_type": "error",
     "traceback": [
      "Command cancelled."
     ]
    }
   ],
   "source": [
    "#!set --name personName --value @input:\"Enter a person's name\"\n",
    "\n",
    "DECLARE @Income DECIMAL\n",
    "SELECT @Income = SUM(Amount)\n",
    "FROM Transactions\n",
    "WHERE PersonName = @personName AND TransactionType = 'income'\n",
    "\n",
    "DECLARE @Outgoing DECIMAL\n",
    "SELECT @Outgoing = SUM(Amount)\n",
    "FROM Transactions\n",
    "WHERE PersonName = @personName AND TransactionType = 'expense'\n",
    "\n",
    "SELECT @Income - @Outgoing AS Balance"
   ]
  },
  {
   "cell_type": "markdown",
   "id": "71425adb",
   "metadata": {},
   "source": [
    "#### Drawing some graphs\n",
    "\n",
    "Here are some sample graphs"
   ]
  },
  {
   "cell_type": "code",
   "execution_count": 98,
   "metadata": {
    "language_info": {
     "name": "polyglot-notebook"
    },
    "polyglot_notebook": {
     "kernelName": "csharp"
    }
   },
   "outputs": [
    {
     "data": {
      "text/html": [
       "<img class='' style='' src=\"data:image/png;base64,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\"></img>"
      ]
     },
     "metadata": {},
     "output_type": "display_data"
    }
   ],
   "source": [
    "// https://scottplot.net/quickstart/notebook/\n",
    "using ScottPlot;\n",
    "using Microsoft.DotNet.Interactive.Formatting;\n",
    "\n",
    "var x = amount;\n",
    "\n",
    "Formatter.Register(typeof(ScottPlot.Plot), (p, w) => \n",
    "    w.Write(((ScottPlot.Plot)p).GetPngHtml(800, 600)), HtmlFormatter.MimeType);\n",
    "\n",
    "// create sample data\n",
    "double[] dataX = new double[] { 1, 2, 3, 4, 5 };\n",
    "double[] dataY = new double[] { 6, 4, 9, 14, 25 };\n",
    "\n",
    "// plot the data\n",
    "ScottPlot.Plot plot = new();\n",
    "plot.FigureBackground.Color = Colors.Navy;\n",
    "plot.DataBackground.Color = Colors.Navy.Darken(0.1);\n",
    "plot.Grid.MajorLineColor = Colors.Navy.Lighten(0.1);\n",
    "plot.Add.Palette = new ScottPlot.Palettes.Frost();\n",
    "plot.Add.Scatter(dataX, dataY);\n",
    "\n",
    "// display the plot\n",
    "plot\n",
    "\n"
   ]
  },
  {
   "cell_type": "code",
   "execution_count": 135,
   "metadata": {
    "language_info": {
     "name": "polyglot-notebook"
    },
    "polyglot_notebook": {
     "kernelName": "sql-BestFunds"
    }
   },
   "outputs": [
    {
     "data": {
      "text/plain": [
       "Adding shared variable declaration statement : DECLARE @personName NVarChar(12) = N'Aaron Taylor';"
      ]
     },
     "metadata": {},
     "output_type": "display_data"
    },
    {
     "data": {
      "text/plain": [
       "Adding shared variable declaration statement : DECLARE @amount NVarChar(6) = N'SELECT';"
      ]
     },
     "metadata": {},
     "output_type": "display_data"
    },
    {
     "data": {
      "text/plain": [
       "(5 rows affected)"
      ]
     },
     "metadata": {},
     "output_type": "display_data"
    },
    {
     "data": {
      "text/csv": [
       "PersonName,Amount\r\n",
       "\"Susan Hall\",47609.00\r\n",
       "\"Diane Johnson\",47477.00\r\n",
       "\"Joyce Chavez\",38737.00\r\n",
       "\"Anna Cooper\",35882.00\r\n",
       "\"Angela Torres\",35427.00\r\n"
      ],
      "text/html": [
       "<table><thead><tr><td><span>PersonName</span></td><td><span>Amount</span></td></tr></thead><tbody><tr><td>Susan Hall</td><td><div class=\"dni-plaintext\"><pre>47609.00</pre></div></td></tr><tr><td>Diane Johnson</td><td><div class=\"dni-plaintext\"><pre>47477.00</pre></div></td></tr><tr><td>Joyce Chavez</td><td><div class=\"dni-plaintext\"><pre>38737.00</pre></div></td></tr><tr><td>Anna Cooper</td><td><div class=\"dni-plaintext\"><pre>35882.00</pre></div></td></tr><tr><td>Angela Torres</td><td><div class=\"dni-plaintext\"><pre>35427.00</pre></div></td></tr></tbody></table><style>\r\n",
       ".dni-code-hint {\r\n",
       "    font-style: italic;\r\n",
       "    overflow: hidden;\r\n",
       "    white-space: nowrap;\r\n",
       "}\r\n",
       ".dni-treeview {\r\n",
       "    white-space: nowrap;\r\n",
       "}\r\n",
       ".dni-treeview td {\r\n",
       "    vertical-align: top;\r\n",
       "    text-align: start;\r\n",
       "}\r\n",
       "details.dni-treeview {\r\n",
       "    padding-left: 1em;\r\n",
       "}\r\n",
       "table td {\r\n",
       "    text-align: start;\r\n",
       "}\r\n",
       "table tr { \r\n",
       "    vertical-align: top; \r\n",
       "    margin: 0em 0px;\r\n",
       "}\r\n",
       "table tr td pre \r\n",
       "{ \r\n",
       "    vertical-align: top !important; \r\n",
       "    margin: 0em 0px !important;\r\n",
       "} \r\n",
       "table th {\r\n",
       "    text-align: start;\r\n",
       "}\r\n",
       "</style>"
      ]
     },
     "metadata": {},
     "output_type": "display_data"
    }
   ],
   "source": [
    "#!sql-BestFunds --name result\n",
    "\n",
    " SELECT TOP 5 PersonName, Amount FROM dbo.Transactions order by Amount desc\n",
    " "
   ]
  },
  {
   "cell_type": "code",
   "execution_count": null,
   "metadata": {
    "language_info": {
     "name": "polyglot-notebook"
    },
    "polyglot_notebook": {
     "kernelName": "csharp"
    }
   },
   "outputs": [
    {
     "data": {
      "text/html": [
       "<img class='' style='' src=\"data:image/png;base64,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\"></img>"
      ]
     },
     "metadata": {},
     "output_type": "display_data"
    }
   ],
   "source": [
    "#!share --from sql-BestFunds result\n",
    "\n",
    "List<PieSlice> slices = new();\n",
    "\n",
    "var data = result.First().Data.ToList();\n",
    "for (var i = 0; i < data.Count(); i++)\n",
    "{\n",
    "    var row = data[i];\n",
    "    foreach (var column in row)\n",
    "    {\n",
    "        if (column.Key == \"PersonName\") {\n",
    "            slices.Add(new PieSlice() { FillColor = Colors.Gold, Label =  column.Value.ToString() });\n",
    "        }\n",
    "        else {\n",
    "            var amount = Double.Parse(column.Value.ToString());\n",
    "            slices[i].Value = amount;\n",
    "            slices[i].Label += $\" ({amount})\";\n",
    "        }\n",
    "    }\n",
    "}\n",
    "\n",
    "ScottPlot.Plot myPlot = new();\n",
    "\n",
    "\n",
    "// List<PieSlice> slices = new()\n",
    "// {\n",
    "//     new PieSlice() { Value = 5, FillColor = Colors.Red, Label =  \"personName\" },\n",
    "//     new PieSlice() { Value = 2, FillColor = Colors.Orange, Label = \"Orange\" },\n",
    "//     new PieSlice() { Value = 8, FillColor = Colors.Gold, Label = \"Yellow\" },\n",
    "//     new PieSlice() { Value = 4, FillColor = Colors.Green, Label = \"Green\" },\n",
    "//     new PieSlice() { Value = 8, FillColor = Colors.Blue, Label = \"Blue\" },\n",
    "// };\n",
    "\n",
    "var pie = myPlot.Add.Pie(slices);\n",
    "pie.DonutFraction = .5;\n",
    "\n",
    "myPlot.ShowLegend();\n",
    "\n",
    "// hide unnecessary plot components\n",
    "myPlot.Axes.Frameless();\n",
    "myPlot.HideGrid();\n",
    "\n",
    "myPlot\n",
    "\n",
    "\n",
    "\n"
   ]
  },
  {
   "cell_type": "code",
   "execution_count": 151,
   "metadata": {
    "language_info": {
     "name": "polyglot-notebook"
    },
    "polyglot_notebook": {
     "kernelName": "csharp"
    }
   },
   "outputs": [
    {
     "name": "stdout",
     "output_type": "stream",
     "text": [
      "15"
     ]
    }
   ],
   "source": [
    "var number1 = 5;\n",
    "var number2 = 10;\n",
    "\n",
    "var result = number1 + number2;\n",
    "\n",
    "Console.Write(result);"
   ]
  }
 ],
 "metadata": {
  "kernelspec": {
   "display_name": ".NET (C#)",
   "language": "C#",
   "name": ".net-csharp"
  },
  "language_info": {
   "name": "polyglot-notebook"
  },
  "polyglot_notebook": {
   "kernelInfo": {
    "defaultKernelName": "csharp",
    "items": [
     {
      "aliases": [],
      "languageName": "csharp",
      "name": "csharp"
     },
     {
      "aliases": [],
      "languageName": "T-SQL",
      "name": "sql-BestFunds"
     },
     {
      "aliases": [],
      "languageName": "T-SQL",
      "name": "sql-localdb"
     }
    ]
   }
  }
 },
 "nbformat": 4,
 "nbformat_minor": 5
}
