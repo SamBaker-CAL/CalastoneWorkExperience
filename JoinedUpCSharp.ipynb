{
 "cells": [
  {
   "cell_type": "code",
   "execution_count": null,
   "id": "a87851a7",
   "metadata": {
    "language_info": {
     "name": "polyglot-notebook"
    },
    "polyglot_notebook": {
     "kernelName": "csharp"
    }
   },
   "outputs": [],
   "source": [
    "#r \"nuget: Microsoft.Data.SqlClient, *-*\"\n",
    "#r \"nuget:ScottPlot, 5.0.*\""
   ]
  },
  {
   "cell_type": "markdown",
   "id": "c6879282",
   "metadata": {},
   "source": [
    "#### Enter a person's name"
   ]
  },
  {
   "cell_type": "code",
   "execution_count": null,
   "id": "40395f15",
   "metadata": {
    "language_info": {
     "name": "polyglot-notebook"
    },
    "polyglot_notebook": {
     "kernelName": "csharp"
    }
   },
   "outputs": [],
   "source": [
    "#!set --name personName --value @input:\"Enter a person's name\""
   ]
  },
  {
   "cell_type": "markdown",
   "id": "3d30bb87",
   "metadata": {},
   "source": [
    "#### Choose a random person's name"
   ]
  },
  {
   "cell_type": "code",
   "execution_count": 92,
   "metadata": {
    "language_info": {
     "name": "polyglot-notebook"
    },
    "polyglot_notebook": {
     "kernelName": "csharp"
    }
   },
   "outputs": [
    {
     "name": "stdout",
     "output_type": "stream",
     "text": [
      "Randomly chose Robert Lewis\r\n"
     ]
    }
   ],
   "source": [
    "var connectionString = await File.ReadAllTextAsync(@\"C:\\\\Temp\\BestFunds.txt\");\n",
    "\n",
    "string personName;\n",
    "\n",
    "using (var connection = new SqlConnection(connectionString))\n",
    "using (var command = connection.CreateCommand())\n",
    "{\n",
    "    connection.Open();\n",
    "    command.CommandType = CommandType.Text;\n",
    "    command.CommandText = \"select top 1 PersonName from Transactions order by newid()\";\n",
    "\n",
    "    personName = (await command.ExecuteScalarAsync()).ToString();\n",
    "}\n",
    "\n",
    "Console.WriteLine($\"Randomly chose {personName}\");"
   ]
  },
  {
   "cell_type": "markdown",
   "id": "e10918b5",
   "metadata": {},
   "source": [
    "#### Search our database and populate some data about that person"
   ]
  },
  {
   "cell_type": "code",
   "execution_count": 93,
   "id": "d297909a",
   "metadata": {
    "language_info": {
     "name": "polyglot-notebook"
    },
    "polyglot_notebook": {
     "kernelName": "csharp"
    }
   },
   "outputs": [
    {
     "name": "stdout",
     "output_type": "stream",
     "text": [
      "Getting transactions...\n",
      "Finished getting transactions\n",
      "Getting spending by category...\n",
      "Finished getting spending by category\n"
     ]
    }
   ],
   "source": [
    "using System.IO;\n",
    "using System.Data;\n",
    "using Microsoft.Data.SqlClient;\n",
    "using ScottPlot;\n",
    "using Microsoft.DotNet.Interactive.Formatting;\n",
    "\n",
    "Formatter.Register(typeof(ScottPlot.Plot), (p, w) => \n",
    "    w.Write(((ScottPlot.Plot)p).GetPngHtml(800, 600)), HtmlFormatter.MimeType);\n",
    "\n",
    "public class Transaction\n",
    "{\n",
    "    public int Id { get; set; }\n",
    "    \n",
    "    public DateTime Date { get; set; }\n",
    "\n",
    "    public DateTime TimeStamp { get; set; }\n",
    "\n",
    "    public string PersonName { get; set; }\n",
    "\n",
    "    public string Outlet { get; set; }\n",
    "\n",
    "    public string Category { get; set; }\n",
    "\n",
    "    public decimal Amount { get; set; }\n",
    "\n",
    "    public string TransactionType { get; set; }\n",
    "\n",
    "    public override string ToString() => $\"{PersonName} {(TransactionType == \"expense\" ? \"spent\" : \"gained\")} £{Amount} on {Outlet} Transaction id {Id}.\";\n",
    "}\n",
    "\n",
    "public async Task<List<Transaction>> GetTransactions(string sqlQuery)\n",
    "{\n",
    "    var connectionString = await File.ReadAllTextAsync(@\"C:\\\\Temp\\BestFunds.txt\");\n",
    "\n",
    "    using (var connection = new SqlConnection(connectionString))\n",
    "    using (var command = connection.CreateCommand())\n",
    "    {\n",
    "        connection.Open();\n",
    "        command.CommandType = CommandType.Text;\n",
    "        command.CommandText = sqlQuery;\n",
    "\n",
    "        using var reader = await command.ExecuteReaderAsync();\n",
    "\n",
    "        var result = new List<Transaction>();\n",
    "\n",
    "        while (await reader.ReadAsync())\n",
    "        {\n",
    "            result.Add(new Transaction\n",
    "            {\n",
    "                Id = (int)reader[\"Id\"],\n",
    "                Date = (DateTime)reader[\"Date\"],\n",
    "                TimeStamp = (DateTime)reader[\"TimeStamp\"],\n",
    "                PersonName = (string)reader[\"PersonName\"],\n",
    "                Outlet = (string)reader[\"Outlet\"],\n",
    "                Category = (string)reader[\"Category\"],\n",
    "                Amount = (decimal)reader[\"Amount\"],\n",
    "                TransactionType = (string)reader[\"TransactionType\"],\n",
    "            });\n",
    "        }\n",
    "\n",
    "        return result;\n",
    "    }\n",
    "}\n",
    "\n",
    "public async Task<List<(decimal Amount, string VendorName)>> GetGroupedAmounts(string sqlQuery)\n",
    "{\n",
    "    var connectionString = await File.ReadAllTextAsync(@\"C:\\\\Temp\\BestFunds.txt\");\n",
    "\n",
    "    using (var connection = new SqlConnection(connectionString))\n",
    "    using (var command = connection.CreateCommand())\n",
    "    {\n",
    "        connection.Open();\n",
    "        command.CommandType = CommandType.Text;\n",
    "        command.CommandText = sqlQuery;\n",
    "\n",
    "        using var reader = await command.ExecuteReaderAsync();\n",
    "\n",
    "        var result = new List<(decimal, string)>();\n",
    "\n",
    "        while (await reader.ReadAsync())\n",
    "        {\n",
    "            result.Add(((decimal)reader[\"Amount\"], (string)reader[\"Category\"]));\n",
    "        }\n",
    "\n",
    "        return result;\n",
    "    }\n",
    "}\n",
    "\n",
    "Console.WriteLine(\"Getting transactions...\");\n",
    "var transactions = await GetTransactions($\"Select top 100 * from Transactions where PersonName = '{personName}'\");\n",
    "Console.WriteLine(\"Finished getting transactions\");\n",
    "Console.WriteLine(\"Getting spending by category...\");\n",
    "var groupedAmounts = await GetGroupedAmounts($\"select sum(Amount) as Amount, Category from Transactions where PersonName = '{personName}' and TransactionType = 'expense' group by Category\");\n",
    "Console.WriteLine(\"Finished getting spending by category\");"
   ]
  },
  {
   "cell_type": "markdown",
   "id": "41bb75e1",
   "metadata": {},
   "source": [
    "#### Display the data"
   ]
  },
  {
   "cell_type": "code",
   "execution_count": 94,
   "metadata": {
    "language_info": {
     "name": "polyglot-notebook"
    },
    "polyglot_notebook": {
     "kernelName": "csharp"
    }
   },
   "outputs": [
    {
     "name": "stdout",
     "output_type": "stream",
     "text": [
      "Displaying spending by category for Robert Lewis\r\n"
     ]
    },
    {
     "data": {
      "text/html": [
       "<img class='' style='' src=\"data:image/png;base64,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\"></img>"
      ]
     },
     "metadata": {},
     "output_type": "display_data"
    }
   ],
   "source": [
    "ScottPlot.Plot myPlot = new();\n",
    "\n",
    "var palette = new ScottPlot.Palettes.Nero();\n",
    "\n",
    "List<PieSlice> slices = groupedAmounts.Select((a, i) => new PieSlice() \n",
    "{\n",
    "    Value = decimal.ToDouble(a.Amount),\n",
    "    Label = a.VendorName,\n",
    "    FillColor = palette.GetColor(i % palette.Colors.Count()), \n",
    "}).ToList();\n",
    "\n",
    "var pie = myPlot.Add.Pie(slices);\n",
    "pie.DonutFraction = .5;\n",
    "\n",
    "myPlot.ShowLegend();\n",
    "\n",
    "myPlot.Axes.Frameless();\n",
    "myPlot.HideGrid();\n",
    "\n",
    "Console.WriteLine($\"Displaying spending by category for {personName}\");\n",
    "\n",
    "myPlot"
   ]
  }
 ],
 "metadata": {
  "kernelspec": {
   "display_name": ".NET (C#)",
   "language": "C#",
   "name": ".net-csharp"
  },
  "language_info": {
   "name": "polyglot-notebook"
  },
  "polyglot_notebook": {
   "kernelInfo": {
    "defaultKernelName": "csharp",
    "items": [
     {
      "aliases": [],
      "languageName": "csharp",
      "name": "csharp"
     }
    ]
   }
  }
 },
 "nbformat": 4,
 "nbformat_minor": 5
}
